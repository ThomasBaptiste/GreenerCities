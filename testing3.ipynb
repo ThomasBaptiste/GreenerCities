{
 "cells": [
  {
   "cell_type": "code",
   "execution_count": 1,
   "id": "6da3c1b4",
   "metadata": {},
   "outputs": [],
   "source": [
    "from src.data_collection import main\n",
    "import matplotlib.pyplot as plt\n",
    "import geopandas as gpd"
   ]
  },
  {
   "cell_type": "code",
   "execution_count": 2,
   "id": "a34d13ef",
   "metadata": {},
   "outputs": [
    {
     "data": {
      "text/html": [
       "\n",
       "            <style>\n",
       "                .geemap-dark {\n",
       "                    --jp-widgets-color: white;\n",
       "                    --jp-widgets-label-color: white;\n",
       "                    --jp-ui-font-color1: white;\n",
       "                    --jp-layout-color2: #454545;\n",
       "                    background-color: #383838;\n",
       "                }\n",
       "\n",
       "                .geemap-dark .jupyter-button {\n",
       "                    --jp-layout-color3: #383838;\n",
       "                }\n",
       "\n",
       "                .geemap-colab {\n",
       "                    background-color: var(--colab-primary-surface-color, white);\n",
       "                }\n",
       "\n",
       "                .geemap-colab .jupyter-button {\n",
       "                    --jp-layout-color3: var(--colab-primary-surface-color, white);\n",
       "                }\n",
       "            </style>\n",
       "            "
      ],
      "text/plain": [
       "<IPython.core.display.HTML object>"
      ]
     },
     "metadata": {},
     "output_type": "display_data"
    },
    {
     "name": "stdout",
     "output_type": "stream",
     "text": [
      "Could not convert the geojson to ee.Geometry()\n"
     ]
    },
    {
     "ename": "Exception",
     "evalue": "Could not convert the geojson to ee.Geometry()",
     "output_type": "error",
     "traceback": [
      "\u001b[1;31m---------------------------------------------------------------------------\u001b[0m",
      "\u001b[1;31mException\u001b[0m                                 Traceback (most recent call last)",
      "File \u001b[1;32mc:\\Users\\Nevada\\Documents\\Challenges\\GreenerCities\\greener_cities_env\\lib\\site-packages\\geemap\\coreutils.py:788\u001b[0m, in \u001b[0;36mgeojson_to_ee\u001b[1;34m(geo_json, geodesic, encoding)\u001b[0m\n\u001b[0;32m    787\u001b[0m     \u001b[38;5;28;01melse\u001b[39;00m:\n\u001b[1;32m--> 788\u001b[0m         \u001b[38;5;28;01mraise\u001b[39;00m \u001b[38;5;167;01mException\u001b[39;00m(\u001b[38;5;124m\"\u001b[39m\u001b[38;5;124mCould not convert the geojson to ee.Geometry()\u001b[39m\u001b[38;5;124m\"\u001b[39m)\n\u001b[0;32m    790\u001b[0m \u001b[38;5;28;01mexcept\u001b[39;00m \u001b[38;5;167;01mException\u001b[39;00m \u001b[38;5;28;01mas\u001b[39;00m e:\n",
      "\u001b[1;31mException\u001b[0m: Could not convert the geojson to ee.Geometry()",
      "\nDuring handling of the above exception, another exception occurred:\n",
      "\u001b[1;31mException\u001b[0m                                 Traceback (most recent call last)",
      "Cell \u001b[1;32mIn[2], line 1\u001b[0m\n\u001b[1;32m----> 1\u001b[0m gdf \u001b[38;5;241m=\u001b[39m \u001b[43mmain\u001b[49m\u001b[38;5;241;43m.\u001b[39;49m\u001b[43mmain\u001b[49m\u001b[43m(\u001b[49m\u001b[38;5;124;43m'\u001b[39;49m\u001b[38;5;124;43mee-thomasbaptiste45\u001b[39;49m\u001b[38;5;124;43m'\u001b[39;49m\u001b[43m)\u001b[49m\n",
      "File \u001b[1;32mc:\\Users\\Nevada\\Documents\\Challenges\\GreenerCities\\src\\data_collection\\main.py:19\u001b[0m, in \u001b[0;36mmain\u001b[1;34m(project_name, CITY_NAME, YEAR, SAMPLING_SCALE, GRID_SPACING_M)\u001b[0m\n\u001b[0;32m     11\u001b[0m \u001b[38;5;28;01mdef\u001b[39;00m\u001b[38;5;250m \u001b[39m\u001b[38;5;21mmain\u001b[39m(project_name,\n\u001b[0;32m     12\u001b[0m         CITY_NAME \u001b[38;5;241m=\u001b[39m \u001b[38;5;124m\"\u001b[39m\u001b[38;5;124mParis, France\u001b[39m\u001b[38;5;124m\"\u001b[39m,\n\u001b[0;32m     13\u001b[0m         YEAR \u001b[38;5;241m=\u001b[39m \u001b[38;5;241m2020\u001b[39m,\n\u001b[0;32m     14\u001b[0m         SAMPLING_SCALE \u001b[38;5;241m=\u001b[39m \u001b[38;5;241m30\u001b[39m,\n\u001b[0;32m     15\u001b[0m         GRID_SPACING_M \u001b[38;5;241m=\u001b[39m \u001b[38;5;241m100\u001b[39m):\n\u001b[0;32m     17\u001b[0m     ee\u001b[38;5;241m.\u001b[39mInitialize(project\u001b[38;5;241m=\u001b[39mproject_name)\n\u001b[1;32m---> 19\u001b[0m     roi \u001b[38;5;241m=\u001b[39m \u001b[43mroi_utils\u001b[49m\u001b[38;5;241;43m.\u001b[39;49m\u001b[43mget_city_roi\u001b[49m\u001b[43m(\u001b[49m\u001b[43mCITY_NAME\u001b[49m\u001b[43m)\u001b[49m\n\u001b[0;32m     20\u001b[0m     points \u001b[38;5;241m=\u001b[39m roi_utils\u001b[38;5;241m.\u001b[39mcreate_point_grid(roi, spacing_m\u001b[38;5;241m=\u001b[39mGRID_SPACING_M)\n\u001b[0;32m     21\u001b[0m     lst_collection \u001b[38;5;241m=\u001b[39m lst_utils\u001b[38;5;241m.\u001b[39mget_lst_collection_celsius(YEAR, roi)\n",
      "File \u001b[1;32mc:\\Users\\Nevada\\Documents\\Challenges\\GreenerCities\\src\\data_collection\\roi_utils.py:12\u001b[0m, in \u001b[0;36mget_city_roi\u001b[1;34m(city_name)\u001b[0m\n\u001b[0;32m     10\u001b[0m city_gdf \u001b[38;5;241m=\u001b[39m ox\u001b[38;5;241m.\u001b[39mgeocode_to_gdf(city_name)\n\u001b[0;32m     11\u001b[0m geojson \u001b[38;5;241m=\u001b[39m city_gdf\u001b[38;5;241m.\u001b[39miloc[\u001b[38;5;241m0\u001b[39m]\u001b[38;5;241m.\u001b[39mgeometry\u001b[38;5;241m.\u001b[39m__geo_interface__\n\u001b[1;32m---> 12\u001b[0m roi_ee \u001b[38;5;241m=\u001b[39m \u001b[43mgeemap\u001b[49m\u001b[38;5;241;43m.\u001b[39;49m\u001b[43mgeojson_to_ee\u001b[49m\u001b[43m(\u001b[49m\u001b[43mgeojson\u001b[49m\u001b[43m)\u001b[49m\n\u001b[0;32m     13\u001b[0m \u001b[38;5;28;01mreturn\u001b[39;00m roi_ee\n",
      "File \u001b[1;32mc:\\Users\\Nevada\\Documents\\Challenges\\GreenerCities\\greener_cities_env\\lib\\site-packages\\geemap\\coreutils.py:792\u001b[0m, in \u001b[0;36mgeojson_to_ee\u001b[1;34m(geo_json, geodesic, encoding)\u001b[0m\n\u001b[0;32m    790\u001b[0m \u001b[38;5;28;01mexcept\u001b[39;00m \u001b[38;5;167;01mException\u001b[39;00m \u001b[38;5;28;01mas\u001b[39;00m e:\n\u001b[0;32m    791\u001b[0m     \u001b[38;5;28mprint\u001b[39m(\u001b[38;5;124m\"\u001b[39m\u001b[38;5;124mCould not convert the geojson to ee.Geometry()\u001b[39m\u001b[38;5;124m\"\u001b[39m)\n\u001b[1;32m--> 792\u001b[0m     \u001b[38;5;28;01mraise\u001b[39;00m \u001b[38;5;167;01mException\u001b[39;00m(e)\n",
      "\u001b[1;31mException\u001b[0m: Could not convert the geojson to ee.Geometry()"
     ]
    }
   ],
   "source": [
    "gdf = main.main('ee-thomasbaptiste45')"
   ]
  }
 ],
 "metadata": {
  "kernelspec": {
   "display_name": "greener_cities_env",
   "language": "python",
   "name": "python3"
  },
  "language_info": {
   "codemirror_mode": {
    "name": "ipython",
    "version": 3
   },
   "file_extension": ".py",
   "mimetype": "text/x-python",
   "name": "python",
   "nbconvert_exporter": "python",
   "pygments_lexer": "ipython3",
   "version": "3.10.17"
  }
 },
 "nbformat": 4,
 "nbformat_minor": 5
}
